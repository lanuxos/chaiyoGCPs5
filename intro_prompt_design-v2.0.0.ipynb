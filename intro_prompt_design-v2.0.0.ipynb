{
 "cells": [
  {
   "cell_type": "code",
   "execution_count": 1,
   "metadata": {
    "id": "ur8xi4C7S06n",
    "tags": []
   },
   "outputs": [],
   "source": [
    "# Copyright 2024 Google LLC\n",
    "#\n",
    "# Licensed under the Apache License, Version 2.0 (the \"License\");\n",
    "# you may not use this file except in compliance with the License.\n",
    "# You may obtain a copy of the License at\n",
    "#\n",
    "#     https://www.apache.org/licenses/LICENSE-2.0\n",
    "#\n",
    "# Unless required by applicable law or agreed to in writing, software\n",
    "# distributed under the License is distributed on an \"AS IS\" BASIS,\n",
    "# WITHOUT WARRANTIES OR CONDITIONS OF ANY KIND, either express or implied.\n",
    "# See the License for the specific language governing permissions and\n",
    "# limitations under the License."
   ]
  },
  {
   "cell_type": "markdown",
   "metadata": {
    "id": "JAPoU8Sm5E6e"
   },
   "source": [
    "# Prompt Design - Best Practices\n",
    "\n",
    "<table align=\"left\">\n",
    "  <td style=\"text-align: center\">\n",
    "    <a href=\"https://colab.research.google.com/github/GoogleCloudPlatform/generative-ai/blob/main/gemini/prompts/intro_prompt_design.ipynb\">\n",
    "      <img src=\"https://cloud.google.com/ml-engine/images/colab-logo-32px.png\" alt=\"Google Colaboratory logo\"><br> Open in Colab\n",
    "    </a>\n",
    "  </td>\n",
    "  <td style=\"text-align: center\">\n",
    "    <a href=\"https://console.cloud.google.com/vertex-ai/colab/import/https:%2F%2Fraw.githubusercontent.com%2FGoogleCloudPlatform%2Fgenerative-ai%2Fmain%2Fgemini%2Fprompts%2Fintro_prompt_design.ipynb\">\n",
    "      <img width=\"32px\" src=\"https://lh3.googleusercontent.com/JmcxdQi-qOpctIvWKgPtrzZdJJK-J3sWE1RsfjZNwshCFgE_9fULcNpuXYTilIR2hjwN\" alt=\"Google Cloud Colab Enterprise logo\"><br> Open in Colab Enterprise\n",
    "    </a>\n",
    "  </td>    \n",
    "  <td style=\"text-align: center\">\n",
    "    <a href=\"https://console.cloud.google.com/vertex-ai/workbench/deploy-notebook?download_url=https://raw.githubusercontent.com/GoogleCloudPlatform/generative-ai/main/gemini/prompts/intro_prompt_design.ipynb\">\n",
    "      <img src=\"https://lh3.googleusercontent.com/UiNooY4LUgW_oTvpsNhPpQzsstV5W8F7rYgxgGBD85cWJoLmrOzhVs_ksK_vgx40SHs7jCqkTkCk=e14-rj-sc0xffffff-h130-w32\" alt=\"Vertex AI logo\"><br> Open in Workbench\n",
    "    </a>\n",
    "  </td>\n",
    "  <td style=\"text-align: center\">\n",
    "    <a href=\"https://github.com/GoogleCloudPlatform/generative-ai/blob/main/gemini/prompts/intro_prompt_design.ipynb\">\n",
    "      <img src=\"https://cloud.google.com/ml-engine/images/github-logo-32px.png\" alt=\"GitHub logo\"><br> View on GitHub\n",
    "    </a>\n",
    "  </td>\n",
    "  <td style=\"text-align: center\">\n",
    "    <a href=\"https://goo.gle/4fWHlze\">\n",
    "      <img width=\"32px\" src=\"https://cdn.qwiklabs.com/assets/gcp_cloud-e3a77215f0b8bfa9b3f611c0d2208c7e8708ed31.svg\" alt=\"Google Cloud logo\"><br> Open in  Cloud Skills Boost\n",
    "    </a>\n",
    "  </td>\n",
    "</table>\n",
    "\n",
    "<div style=\"clear: both;\"></div>\n",
    "\n",
    "<b>Share to:</b>\n",
    "\n",
    "<a href=\"https://www.linkedin.com/sharing/share-offsite/?url=https%3A//github.com/GoogleCloudPlatform/generative-ai/blob/main/gemini/prompts/intro_prompt_design.ipynb\" target=\"_blank\">\n",
    "  <img width=\"20px\" src=\"https://upload.wikimedia.org/wikipedia/commons/8/81/LinkedIn_icon.svg\" alt=\"LinkedIn logo\">\n",
    "</a>\n",
    "\n",
    "<a href=\"https://bsky.app/intent/compose?text=https%3A//github.com/GoogleCloudPlatform/generative-ai/blob/main/gemini/prompts/intro_prompt_design.ipynb\" target=\"_blank\">\n",
    "  <img width=\"20px\" src=\"https://upload.wikimedia.org/wikipedia/commons/7/7a/Bluesky_Logo.svg\" alt=\"Bluesky logo\">\n",
    "</a>\n",
    "\n",
    "<a href=\"https://twitter.com/intent/tweet?url=https%3A//github.com/GoogleCloudPlatform/generative-ai/blob/main/gemini/prompts/intro_prompt_design.ipynb\" target=\"_blank\">\n",
    "  <img width=\"20px\" src=\"https://upload.wikimedia.org/wikipedia/commons/5/53/X_logo_2023_original.svg\" alt=\"X logo\">\n",
    "</a>\n",
    "\n",
    "<a href=\"https://reddit.com/submit?url=https%3A//github.com/GoogleCloudPlatform/generative-ai/blob/main/gemini/prompts/intro_prompt_design.ipynb\" target=\"_blank\">\n",
    "  <img width=\"20px\" src=\"https://redditinc.com/hubfs/Reddit%20Inc/Brand/Reddit_Logo.png\" alt=\"Reddit logo\">\n",
    "</a>\n",
    "\n",
    "<a href=\"https://www.facebook.com/sharer/sharer.php?u=https%3A//github.com/GoogleCloudPlatform/generative-ai/blob/main/gemini/prompts/intro_prompt_design.ipynb\" target=\"_blank\">\n",
    "  <img width=\"20px\" src=\"https://upload.wikimedia.org/wikipedia/commons/5/51/Facebook_f_logo_%282019%29.svg\" alt=\"Facebook logo\">\n",
    "</a>            "
   ]
  },
  {
   "cell_type": "markdown",
   "metadata": {
    "id": "84f0f73a0f76"
   },
   "source": [
    "| | |\n",
    "|-|-|\n",
    "|Author(s) | [Polong Lin](https://github.com/polong-lin), [Karl Weinmeister](https://github.com/kweinmeister) |"
   ]
  },
  {
   "cell_type": "markdown",
   "metadata": {
    "id": "tvgnzT1CKxrO"
   },
   "source": [
    "## Overview\n",
    "\n",
    "This notebook covers the essentials of prompt engineering, including some best practices.\n",
    "\n",
    "Learn more about prompt design in the [official documentation](https://cloud.google.com/vertex-ai/docs/generative-ai/text/text-overview).\n",
    "\n",
    "In this notebook, you learn best practices around prompt engineering -- how to design prompts to improve the quality of your responses.\n",
    "\n",
    "This notebook covers the following best practices for prompt engineering:\n",
    "\n",
    "- Be concise\n",
    "- Be specific and well-defined\n",
    "- Ask one task at a time\n",
    "- Turn generative tasks into classification tasks\n",
    "- Improve response quality by including examples"
   ]
  },
  {
   "cell_type": "markdown",
   "metadata": {
    "id": "61RBz8LLbxCR"
   },
   "source": [
    "## Getting Started"
   ]
  },
  {
   "cell_type": "markdown",
   "metadata": {
    "id": "No17Cw5hgx12"
   },
   "source": [
    "### Install Google Gen AI SDK\n"
   ]
  },
  {
   "cell_type": "code",
   "execution_count": 2,
   "metadata": {
    "id": "tFy3H3aPgx12",
    "tags": []
   },
   "outputs": [
    {
     "name": "stdout",
     "output_type": "stream",
     "text": [
      "\n",
      "\u001b[1m[\u001b[0m\u001b[34;49mnotice\u001b[0m\u001b[1;39;49m]\u001b[0m\u001b[39;49m A new release of pip is available: \u001b[0m\u001b[31;49m25.0\u001b[0m\u001b[39;49m -> \u001b[0m\u001b[32;49m25.0.1\u001b[0m\n",
      "\u001b[1m[\u001b[0m\u001b[34;49mnotice\u001b[0m\u001b[1;39;49m]\u001b[0m\u001b[39;49m To update, run: \u001b[0m\u001b[32;49mpip install --upgrade pip\u001b[0m\n",
      "Note: you may need to restart the kernel to use updated packages.\n"
     ]
    }
   ],
   "source": [
    "%pip install --upgrade --quiet google-genai"
   ]
  },
  {
   "cell_type": "markdown",
   "metadata": {
    "id": "R5Xep4W9lq-Z"
   },
   "source": [
    "### Restart runtime\n",
    "\n",
    "To use the newly installed packages in this Jupyter runtime, you must restart the runtime. You can do this by running the cell below, which will restart the current kernel."
   ]
  },
  {
   "cell_type": "code",
   "execution_count": 1,
   "metadata": {
    "id": "XRvKdaPDTznN",
    "tags": []
   },
   "outputs": [
    {
     "data": {
      "text/plain": [
       "{'status': 'ok', 'restart': True}"
      ]
     },
     "execution_count": 1,
     "metadata": {},
     "output_type": "execute_result"
    }
   ],
   "source": [
    "import IPython\n",
    "\n",
    "app = IPython.Application.instance()\n",
    "app.kernel.do_shutdown(True)"
   ]
  },
  {
   "cell_type": "markdown",
   "metadata": {
    "id": "SbmM4z7FOBpM"
   },
   "source": [
    "<div class=\"alert alert-block alert-warning\">\n",
    "<b>⚠️ The kernel is going to restart. Please wait until it is finished before continuing to the next step. ⚠️</b>\n",
    "</div>\n"
   ]
  },
  {
   "cell_type": "markdown",
   "metadata": {
    "id": "dmWOrTJ3gx13"
   },
   "source": [
    "### Authenticate your notebook environment (Colab only)\n",
    "\n",
    "Authenticate your environment on Google Colab.\n"
   ]
  },
  {
   "cell_type": "code",
   "execution_count": 1,
   "metadata": {
    "id": "NyKGtVQjgx13",
    "tags": []
   },
   "outputs": [],
   "source": [
    "import sys\n",
    "\n",
    "if \"google.colab\" in sys.modules:\n",
    "    from google.colab import auth\n",
    "\n",
    "    auth.authenticate_user()"
   ]
  },
  {
   "cell_type": "markdown",
   "metadata": {
    "id": "06489bd14f16"
   },
   "source": [
    "### Import libraries\n"
   ]
  },
  {
   "cell_type": "code",
   "execution_count": 2,
   "metadata": {
    "id": "154137022fb6",
    "tags": []
   },
   "outputs": [],
   "source": [
    "from IPython.display import Markdown, display\n",
    "from google import genai\n",
    "from google.genai.types import GenerateContentConfig"
   ]
  },
  {
   "cell_type": "markdown",
   "metadata": {
    "id": "DF4l8DTdWgPY"
   },
   "source": [
    "### Set Google Cloud project information and create client\n",
    "\n",
    "To get started using Vertex AI, you must have an existing Google Cloud project and [enable the Vertex AI API](https://console.cloud.google.com/flows/enableapi?apiid=aiplatform.googleapis.com).\n",
    "\n",
    "Learn more about [setting up a project and a development environment](https://cloud.google.com/vertex-ai/docs/start/cloud-environment)."
   ]
  },
  {
   "cell_type": "code",
   "execution_count": 3,
   "metadata": {
    "id": "Nqwi-5ufWp_B",
    "tags": []
   },
   "outputs": [],
   "source": [
    "import os\n",
    "\n",
    "PROJECT_ID = \"qwiklabs-gcp-00-8f36284d3c9c\"  # @param {type: \"string\", placeholder: \"[your-project-id]\", isTemplate: true}\n",
    "if not PROJECT_ID or PROJECT_ID == \"qwiklabs-gcp-00-8f36284d3c9c\":\n",
    "    PROJECT_ID = str(os.environ.get(\"GOOGLE_CLOUD_PROJECT\"))\n",
    "\n",
    "LOCATION = os.environ.get(\"GOOGLE_CLOUD_REGION\", \"us-central1\")"
   ]
  },
  {
   "cell_type": "code",
   "execution_count": 4,
   "metadata": {
    "id": "QqRWdPGmW3NJ",
    "tags": []
   },
   "outputs": [],
   "source": [
    "client = genai.Client(vertexai=True, project=PROJECT_ID, location=LOCATION)"
   ]
  },
  {
   "cell_type": "markdown",
   "metadata": {
    "id": "OnFPpCRtXRl4"
   },
   "source": [
    "### Load model\n",
    "\n",
    "Learn more about all [Gemini models on Vertex AI](https://cloud.google.com/vertex-ai/generative-ai/docs/learn/models#gemini-models)."
   ]
  },
  {
   "cell_type": "code",
   "execution_count": 5,
   "metadata": {
    "id": "IQYu_9SvXQah",
    "tags": []
   },
   "outputs": [],
   "source": [
    "MODEL_ID = \"gemini-2.0-flash-001\"  # @param {type: \"string\"}"
   ]
  },
  {
   "cell_type": "markdown",
   "metadata": {
    "id": "cVOtUNJ5X0PY"
   },
   "source": [
    "## Prompt engineering best practices"
   ]
  },
  {
   "cell_type": "markdown",
   "metadata": {
    "id": "uv_e0fEPX60q"
   },
   "source": [
    "Prompt engineering is all about how to design your prompts so that the response is what you were indeed hoping to see.\n",
    "\n",
    "The idea of using \"unfancy\" prompts is to minimize the noise in your prompt to reduce the possibility of the LLM misinterpreting the intent of the prompt. Below are a few guidelines on how to engineer \"unfancy\" prompts.\n",
    "\n",
    "In this section, you'll cover the following best practices when engineering prompts:\n",
    "\n",
    "* Be concise\n",
    "* Be specific, and well-defined\n",
    "* Ask one task at a time\n",
    "* Improve response quality by including examples\n",
    "* Turn generative tasks to classification tasks to improve safety"
   ]
  },
  {
   "cell_type": "markdown",
   "metadata": {
    "id": "0pY4XX0OX9_Y"
   },
   "source": [
    "### Be concise"
   ]
  },
  {
   "cell_type": "markdown",
   "metadata": {
    "id": "xlRpxyxGYA1K"
   },
   "source": [
    "🛑 Not recommended. The prompt below is unnecessarily verbose."
   ]
  },
  {
   "cell_type": "code",
   "execution_count": 6,
   "metadata": {
    "id": "YKV4G-CfXdbi",
    "tags": []
   },
   "outputs": [
    {
     "data": {
      "text/markdown": [
       "Okay, here are some name ideas for a flower shop specializing in dried flowers, playing with different angles and styles:\n",
       "\n",
       "**Emphasizing the Dried & Lasting Aspect:**\n",
       "\n",
       "*   **Everbloom** (Classic, hints at everlasting beauty)\n",
       "*   **The Dried Petal** (Simple, descriptive)\n",
       "*   **Lasting Blooms** (Direct, clear)\n",
       "*   **Petrified Petals** (Edgy, unique, a little tongue-in-cheek)\n",
       "*   **Preserved Posies** (Alliteration, charming)\n",
       "*   **The Immortal Bloom** (Romantic, dramatic)\n",
       "*   **Golden Hour Flowers** (Evokes a sense of warmth, preservation and timeless beauty)\n",
       "\n",
       "**Playing with Texture & Nature:**\n",
       "\n",
       "*   **Whispering Stems** (Poetic, evokes the sound of dried arrangements)\n",
       "*   **Textured Blooms** (Highlights the tactile quality)\n",
       "*   **The Rustic Bloom** (Emphasizes a natural, less formal style)\n",
       "*   **Field & Flora Dried** (Suggests a connection to nature)\n",
       "*   **Earthen Petals** (Grounds the shop in natural tones)\n",
       "*   **The Grainery** (Suggestive of harvest and preservation)\n",
       "\n",
       "**More Boutique/Modern Vibes:**\n",
       "\n",
       "*   **Atelier d'Fleur Sèche** (French for \"Dried Flower Workshop\", sophisticated)\n",
       "*   **Bloom Apothecary** (Modern, hints at artistry and unique combinations)\n",
       "*   **The Floral Curator** (Emphasizes a carefully selected collection)\n",
       "*   **Botanique & Dry** (Clean, modern)\n",
       "*   **Dust & Bloom** (Intriguing contrast, a little bohemian)\n",
       "\n",
       "**Fun & Playful:**\n",
       "\n",
       "*   **Dried & Dusted** (Casual, quirky)\n",
       "*   **The Bloom Room** (Simple, memorable, can be used for both fresh and dry)\n",
       "*   **Once Upon A Bloom** (Whimsical, Storytelling)\n",
       "\n",
       "**Tips for Choosing:**\n",
       "\n",
       "*   **Consider your target audience:** Are you aiming for a sophisticated clientele or a more casual, bohemian crowd?\n",
       "*   **Think about your branding:** Does the name fit the overall aesthetic of your shop?\n",
       "*   **Check availability:** Make sure the name isn't already in use and that you can secure a website domain and social media handles.\n",
       "*   **Say it out loud:** Does it roll off the tongue easily? Is it memorable?\n",
       "\n",
       "Ultimately, the best name will be one that resonates with you and accurately reflects the unique character of your dried flower shop! Good luck!\n"
      ],
      "text/plain": [
       "<IPython.core.display.Markdown object>"
      ]
     },
     "metadata": {},
     "output_type": "display_data"
    }
   ],
   "source": [
    "prompt = \"What do you think could be a good name for a flower shop that specializes in selling bouquets of dried flowers more than fresh flowers?\"\n",
    "\n",
    "response = client.models.generate_content(model=MODEL_ID, contents=prompt)\n",
    "display(Markdown(response.text))"
   ]
  },
  {
   "cell_type": "markdown",
   "metadata": {
    "id": "YrJexRHJYnmC"
   },
   "source": [
    "✅ Recommended. The prompt below is to the point and concise."
   ]
  },
  {
   "cell_type": "code",
   "execution_count": 7,
   "metadata": {
    "id": "VHetn9lCYrXB",
    "tags": []
   },
   "outputs": [
    {
     "data": {
      "text/markdown": [
       "Okay, here are some name suggestions for a dried flower shop, playing with different angles like elegance, nature, preservation, and the unique qualities of dried blooms:\n",
       "\n",
       "**Elegant & Classic:**\n",
       "\n",
       "*   The Everlasting Bloom\n",
       "*   Preserved Petals\n",
       "*   The Dried Dahlia\n",
       "*   Golden Harvest Florals\n",
       "*   Eternal Flora\n",
       "*   Timeless Blooms\n",
       "*   The Still Life Florist\n",
       "\n",
       "**Nature-Focused:**\n",
       "\n",
       "*   Whispering Meadows\n",
       "*   Sunbaked Blossoms\n",
       "*   The Rustic Wreath\n",
       "*   Field & Flora Dried\n",
       "*   The Natural Arrangement\n",
       "*   Earth & Ember\n",
       "*   Harvest Home Florals\n",
       "\n",
       "**Modern & Playful:**\n",
       "\n",
       "*   The Dried Flower Bar\n",
       "*   Petal Pusher (Dried)\n",
       "*   Bloom & Bone\n",
       "*   The Everbloom Co.\n",
       "*   Dried & Dusted\n",
       "*   Still Life Studio\n",
       "*   The Lasting Petal\n",
       "\n",
       "**Unique & Evocative:**\n",
       "\n",
       "*   Amber & Bloom\n",
       "*   The Sepia Stem\n",
       "*   Ghost Petals\n",
       "*   The Memory Garden\n",
       "*   Dried Dreams\n",
       "*   From the Ashes Blooms\n",
       "*   The Silent Garden\n",
       "\n",
       "**Tips for Choosing:**\n",
       "\n",
       "*   **Consider your target audience:** Are you aiming for a high-end clientele or a more casual, rustic vibe?\n",
       "*   **Check for availability:** Make sure the name isn't already in use by another flower shop in your area (or online).  Do a trademark search if you're serious about the name.\n",
       "*   **Say it out loud:**  Is it easy to pronounce and remember?\n",
       "*   **Think about branding:** Does the name lend itself well to a logo and overall aesthetic?\n",
       "*   **Get feedback:** Ask friends and family for their opinions.\n",
       "\n",
       "I hope this gives you a great starting point! Good luck!\n"
      ],
      "text/plain": [
       "<IPython.core.display.Markdown object>"
      ]
     },
     "metadata": {},
     "output_type": "display_data"
    }
   ],
   "source": [
    "prompt = \"Suggest a name for a flower shop that sells bouquets of dried flowers\"\n",
    "\n",
    "response = client.models.generate_content(model=MODEL_ID, contents=prompt)\n",
    "display(Markdown(response.text))"
   ]
  },
  {
   "cell_type": "markdown",
   "metadata": {
    "id": "eXTAvdOHY0OC"
   },
   "source": [
    "### Be specific, and well-defined"
   ]
  },
  {
   "cell_type": "markdown",
   "metadata": {
    "id": "FTH4GEIgY1dp"
   },
   "source": [
    "Suppose that you want to brainstorm creative ways to describe Earth."
   ]
  },
  {
   "cell_type": "markdown",
   "metadata": {
    "id": "o5BmXBiGY4KC"
   },
   "source": [
    "🛑 The prompt below might be a bit too generic (which is certainly OK if you'd like to ask a generic question!)"
   ]
  },
  {
   "cell_type": "code",
   "execution_count": 8,
   "metadata": {
    "id": "eHBaMvv7Y6mR",
    "tags": []
   },
   "outputs": [
    {
     "data": {
      "text/markdown": [
       "Okay, let's talk about Earth! It's a pretty amazing place, and here's a rundown of the important facts:\n",
       "\n",
       "**The Basics:**\n",
       "\n",
       "*   **Name:** Earth (The only planet not named after a Greek or Roman god. \"Earth\" comes from the Old English word \"ertha\" and the Middle English \"erthe,\" both derived from the Proto-Germanic \"ertho.\")\n",
       "*   **Position:** Third planet from the Sun in our Solar System.\n",
       "*   **Type:** Terrestrial Planet (rocky surface)\n",
       "*   **Diameter:** Roughly 12,742 kilometers (7,918 miles)\n",
       "*   **Mass:** About 5.97 x 10^24 kg\n",
       "*   **Orbit:** Takes 365.25 days to orbit the Sun (hence the need for leap years).\n",
       "*   **Rotation:** Takes approximately 24 hours to rotate on its axis (one day).\n",
       "*   **Atmosphere:** Primarily nitrogen (78%) and oxygen (21%), with trace amounts of other gases like argon, carbon dioxide, and water vapor. This is crucial for life!\n",
       "*   **Surface:** About 71% water (oceans, seas, lakes, rivers, ice) and 29% land (continents, islands).\n",
       "*   **Moons:** One natural satellite – the Moon.\n",
       "*   **Rings:** Earth has no rings\n",
       "\n",
       "**Key Features that Make Earth Special:**\n",
       "\n",
       "*   **Liquid Water:** Earth is unique in our solar system for having abundant liquid water on its surface. This is essential for life as we know it and plays a crucial role in regulating the planet's temperature and climate.\n",
       "*   **Oxygen-Rich Atmosphere:** The presence of a significant amount of free oxygen in our atmosphere is a result of photosynthesis by plants and other organisms. Oxygen is vital for the respiration of most complex life forms.\n",
       "*   **Plate Tectonics:** Earth's lithosphere (outermost layer) is divided into plates that move and interact. This process shapes the Earth's surface, creates mountains, causes earthquakes and volcanoes, and helps regulate the planet's temperature over long periods.\n",
       "*   **Magnetic Field:** Generated by the movement of molten iron in Earth's outer core, the magnetic field deflects harmful solar wind and cosmic radiation, protecting the atmosphere and life on the surface.\n",
       "*   **Life:** Earth is the only known planet to harbor life. The biosphere is a complex and interconnected system of living organisms that interact with each other and their environment.\n",
       "\n",
       "**Internal Structure:**\n",
       "\n",
       "Earth has a layered structure:\n",
       "\n",
       "*   **Crust:** The outermost solid layer, divided into oceanic crust (thinner, denser) and continental crust (thicker, less dense).\n",
       "*   **Mantle:** A thick layer of mostly solid rock beneath the crust. It is divided into the upper mantle and lower mantle.\n",
       "*   **Outer Core:** A liquid layer composed mainly of iron and nickel. The movement of this liquid generates Earth's magnetic field.\n",
       "*   **Inner Core:** A solid sphere of iron and nickel at the center of the Earth. The immense pressure keeps it solid despite the high temperature.\n",
       "\n",
       "**Other Interesting Facts:**\n",
       "\n",
       "*   **Age:** Approximately 4.54 billion years old.\n",
       "*   **Gravity:**  About 9.8 m/s² (at the surface).\n",
       "*   **Highest Point:** Mount Everest (8,848.86 meters above sea level).\n",
       "*   **Deepest Point:** Challenger Deep in the Mariana Trench (approximately 10,929 meters below sea level).\n",
       "*   **Population:** Over 8 billion people (and counting).\n",
       "*   **Climate:** Varied, ranging from extremely cold polar regions to hot and humid tropical regions.\n",
       "*   **Global Warming:** Earth's average temperature is rising due to increased greenhouse gases in the atmosphere, largely due to human activities.\n",
       "\n",
       "**Why Earth is Important:**\n",
       "\n",
       "*   **Home:** It's our home!  It's the only planet we know of that can support human life.\n",
       "*   **Resources:** Provides us with resources like water, air, food, minerals, and energy.\n",
       "*   **Biodiversity:**  Supports an incredible diversity of life, which is essential for a healthy ecosystem.\n",
       "*   **Scientific Study:** Earth is a fascinating subject for scientific study, helping us understand planetary formation, geology, climate, and the origins of life.\n",
       "\n",
       "In short, Earth is a complex, dynamic, and precious planet. We need to protect it so that it can continue to sustain life for generations to come.\n"
      ],
      "text/plain": [
       "<IPython.core.display.Markdown object>"
      ]
     },
     "metadata": {},
     "output_type": "display_data"
    }
   ],
   "source": [
    "prompt = \"Tell me about Earth\"\n",
    "\n",
    "response = client.models.generate_content(model=MODEL_ID, contents=prompt)\n",
    "display(Markdown(response.text))"
   ]
  },
  {
   "cell_type": "markdown",
   "metadata": {
    "id": "4iyvEbteZnFL"
   },
   "source": [
    "✅ Recommended. The prompt below is specific and well-defined."
   ]
  },
  {
   "cell_type": "code",
   "execution_count": 9,
   "metadata": {
    "id": "JQ80z8urZnne",
    "tags": []
   },
   "outputs": [
    {
     "data": {
      "text/markdown": [
       "Earth boasts a unique combination of characteristics that, as far as we currently know, make it unlike any other planet in our solar system or beyond. Here's a list of factors contributing to Earth's uniqueness:\n",
       "\n",
       "**Habitability & Life:**\n",
       "\n",
       "*   **Liquid Water on the Surface:** Abundant liquid water is crucial for life as we know it and covers approximately 71% of Earth's surface. It acts as a solvent, a temperature regulator, and a medium for chemical reactions.\n",
       "*   **Oxygen-Rich Atmosphere:** A significant and sustained level of free oxygen in the atmosphere, largely produced by photosynthetic organisms. This is vital for complex, aerobic life forms.\n",
       "*   **Presence of Life (as far as we know):** The only planet confirmed to harbor life. The biosphere is incredibly diverse and complex, influencing the planet's atmosphere, geology, and chemistry.\n",
       "*   **Ozone Layer:** This layer in the stratosphere absorbs most of the Sun's harmful ultraviolet (UV) radiation, protecting life on Earth.\n",
       "\n",
       "**Geological Activity & Composition:**\n",
       "\n",
       "*   **Plate Tectonics:** Earth is the only known planet in our solar system with active plate tectonics. This process shapes the Earth's surface, recycles materials, regulates the carbon cycle, and plays a role in maintaining a stable climate.\n",
       "*   **Magnetic Field:** A strong magnetic field, generated by the Earth's iron core, deflects harmful solar wind and cosmic radiation, protecting the atmosphere and life on the surface.\n",
       "*   **Liquid Outer Core:**  Essential for the generation of the magnetic field.\n",
       "*   **Geological History:** Earth has a well-preserved geological record (though incomplete), allowing scientists to study its past environments and evolution.\n",
       "\n",
       "**Orbital & Rotational Characteristics:**\n",
       "\n",
       "*   **Optimal Distance from the Sun:** Earth resides within the habitable zone (also known as the Goldilocks zone) of our solar system, allowing for liquid water to exist on its surface.\n",
       "*   **Stable Axial Tilt:** The Earth's axial tilt of approximately 23.5 degrees creates seasons. This tilt is relatively stable due to the presence of the Moon, preventing extreme climate variations.\n",
       "*   **Rotation Rate:** Earth's rotation rate provides a reasonable day-night cycle.\n",
       "*   **Single Large Moon:** The Moon's large size relative to Earth influences tides, stabilizes Earth's axial tilt, and may have played a role in the early development of life.\n",
       "\n",
       "**Atmospheric Properties:**\n",
       "\n",
       "*   **Atmospheric Pressure:** Earth's atmospheric pressure is just right to allow for liquid water to exist and for complex life to thrive.\n",
       "*   **Nitrogen-Dominated Atmosphere:** The high percentage of nitrogen in the atmosphere dilutes the oxygen and helps to create a stable and suitable environment.\n",
       "\n",
       "**Specific Compounds and Cycles:**\n",
       "\n",
       "*   **Carbon Cycle:** A complex and active carbon cycle that regulates the amount of carbon dioxide in the atmosphere, influencing the planet's temperature.\n",
       "*   **Water Cycle:**  A continuous cycle of evaporation, condensation, and precipitation, distributing water around the globe.\n",
       "\n",
       "**Important Considerations:**\n",
       "\n",
       "*   **Our limited knowledge:**  We've only explored a small fraction of the universe. It's possible that planets with similar or even more unique characteristics exist elsewhere, but we haven't found them yet.\n",
       "*   **Definition of \"unique\":**  Some characteristics may exist in less pronounced forms on other planets, but the specific combination and intensity on Earth create a unique environment.\n",
       "*   **Changing conditions:** Earth's uniqueness is also tied to its current state. In the past, it may have been very different, and in the future, it will continue to evolve.\n",
       "\n",
       "In conclusion, Earth's uniqueness stems from the intricate interplay of its geological activity, atmospheric composition, orbital characteristics, and the presence of liquid water, resulting in an environment that has fostered the development and sustenance of life. As we continue to explore the cosmos, we may find other planets with similar or even more extraordinary features, but for now, Earth stands out as a truly exceptional place in the universe.\n"
      ],
      "text/plain": [
       "<IPython.core.display.Markdown object>"
      ]
     },
     "metadata": {},
     "output_type": "display_data"
    }
   ],
   "source": [
    "prompt = \"Generate a list of ways that makes Earth unique compared to other planets\"\n",
    "\n",
    "response = client.models.generate_content(model=MODEL_ID, contents=prompt)\n",
    "display(Markdown(response.text))"
   ]
  },
  {
   "cell_type": "markdown",
   "metadata": {
    "id": "R5kmfZYHZsJ7"
   },
   "source": [
    "### Ask one task at a time"
   ]
  },
  {
   "cell_type": "markdown",
   "metadata": {
    "id": "rsAezxeYZuUN"
   },
   "source": [
    "🛑 Not recommended. The prompt below has two parts to the question that could be asked separately."
   ]
  },
  {
   "cell_type": "code",
   "execution_count": 10,
   "metadata": {
    "id": "ElywPXpuZtWf",
    "tags": []
   },
   "outputs": [
    {
     "data": {
      "text/markdown": [
       "Let's tackle these two questions separately!\n",
       "\n",
       "**Best Method of Boiling Water**\n",
       "\n",
       "There isn't a single \"best\" method, as it depends on your priorities and resources. Here's a breakdown of common methods and their pros and cons:\n",
       "\n",
       "*   **Electric Kettle:**\n",
       "\n",
       "    *   **Pros:** Fastest, most energy-efficient for small quantities, convenient (auto shut-off), portable.\n",
       "    *   **Cons:** Requires electricity, limited capacity.\n",
       "    *   **Ideal For:** Small quantities, quick cups of tea/coffee, office use.\n",
       "\n",
       "*   **Stovetop Kettle:**\n",
       "\n",
       "    *   **Pros:** Can heat larger quantities, works with gas or electric stoves, often more durable than electric kettles.\n",
       "    *   **Cons:** Can be slower than electric kettles, requires monitoring to prevent boiling dry.\n",
       "    *   **Ideal For:** Larger quantities, situations where electricity is limited.\n",
       "\n",
       "*   **Microwave:**\n",
       "\n",
       "    *   **Pros:** Quick for small quantities, convenient.\n",
       "    *   **Cons:** Can heat unevenly, risk of superheating (water getting hotter than boiling point without bubbles, then erupting violently). *Never* boil water in a microwave with anything else present.\n",
       "    *   **Ideal For:** Very small quantities, single cups, situations where precise temperature control isn't needed. Be careful!\n",
       "\n",
       "*   **Pot on Stovetop:**\n",
       "\n",
       "    *   **Pros:** Can heat very large quantities, works with any stove type, readily available.\n",
       "    *   **Cons:** Slowest, least energy-efficient, requires close monitoring.\n",
       "    *   **Ideal For:** Large quantities of water for cooking pasta, canning, etc.\n",
       "\n",
       "*   **Campfire/Open Fire:**\n",
       "\n",
       "    *   **Pros:** Useful in survival situations.\n",
       "    *   **Cons:** Inefficient, smoky, potential for contamination from the pot, time-consuming.\n",
       "    *   **Ideal For:** Outdoors, survival situations.\n",
       "\n",
       "**In summary:** For most people, an electric kettle is the best method for boiling water due to its speed, efficiency, and convenience. However, the \"best\" really depends on your specific needs.\n",
       "\n",
       "**Why is the Sky Blue?**\n",
       "\n",
       "The sky is blue because of a phenomenon called **Rayleigh scattering**. Here's the breakdown:\n",
       "\n",
       "1.  **Sunlight and the Atmosphere:** Sunlight, which appears white, is actually made up of all the colors of the rainbow. When sunlight enters the Earth's atmosphere, it collides with tiny air molecules (mostly nitrogen and oxygen).\n",
       "\n",
       "2.  **Scattering of Light:** This collision causes the sunlight to scatter in different directions. The amount of scattering depends on the wavelength (color) of the light.\n",
       "\n",
       "3.  **Rayleigh Scattering:** Rayleigh scattering is more effective at shorter wavelengths. Blue and violet light have shorter wavelengths than other colors like red and orange.\n",
       "\n",
       "4.  **Why Blue, Not Violet?** Violet light is actually scattered *more* than blue light. However, the sun emits slightly less violet light than blue light. Also, our eyes are more sensitive to blue than violet. As a result, we perceive the sky as blue.\n",
       "\n",
       "5.  **Sunsets and Sunrises:** At sunrise and sunset, the sunlight has to travel through a much greater distance of atmosphere to reach our eyes.  This means that most of the blue light is scattered away before it gets to us. The longer wavelengths, like red and orange, are less easily scattered and can pass through, giving us those beautiful reddish and orange hues.\n",
       "\n",
       "**In short:** Blue light is scattered more by the Earth's atmosphere than other colors, making the sky appear blue.  At sunrise and sunset, when the light travels through more atmosphere, the blue is scattered away, leaving the red and orange.\n"
      ],
      "text/plain": [
       "<IPython.core.display.Markdown object>"
      ]
     },
     "metadata": {},
     "output_type": "display_data"
    }
   ],
   "source": [
    "prompt = \"What's the best method of boiling water and why is the sky blue?\"\n",
    "\n",
    "response = client.models.generate_content(model=MODEL_ID, contents=prompt)\n",
    "display(Markdown(response.text))"
   ]
  },
  {
   "cell_type": "markdown",
   "metadata": {
    "id": "ejzahazBZ8vk"
   },
   "source": [
    "✅ Recommended. The prompts below asks one task a time."
   ]
  },
  {
   "cell_type": "code",
   "execution_count": 11,
   "metadata": {
    "id": "C5ckp2F0Z_Ba",
    "tags": []
   },
   "outputs": [
    {
     "data": {
      "text/markdown": [
       "The \"best\" method for boiling water depends on your priorities and the specific situation. Here's a breakdown, considering factors like speed, energy efficiency, convenience, and availability:\n",
       "\n",
       "**1. Speed:**\n",
       "\n",
       "*   **Electric Kettle:** Generally the fastest, especially for smaller amounts of water. They are designed to heat water quickly and efficiently using a heating element immersed directly in the water.\n",
       "*   **Induction Cooktop:** Very fast, as the heat is generated directly in the pot. Often comparable to an electric kettle.\n",
       "*   **Gas Stove:** Typically faster than an electric coil stove, but slower than an electric kettle or induction.\n",
       "*   **Electric Coil Stove:** The slowest of the common methods due to heat transfer inefficiencies.\n",
       "*   **Microwave:** Can be quick for very small amounts (e.g., a cup), but often uneven heating can occur (creating superheated water with risk of eruption). Not the best choice for larger quantities.\n",
       "\n",
       "**2. Energy Efficiency:**\n",
       "\n",
       "*   **Electric Kettle:** Usually the most energy-efficient for smaller amounts of water because it heats only the water directly. The kettle is often insulated, reducing heat loss.\n",
       "*   **Induction Cooktop:** Highly efficient because it heats the pot directly with very little wasted energy.\n",
       "*   **Microwave:**  Can be efficient for very small amounts, but not overall.\n",
       "*   **Gas Stove:** Less efficient than electric kettles or induction cooktops. Much of the heat escapes around the pot.\n",
       "*   **Electric Coil Stove:** The least efficient, as a lot of heat is lost to the air and the surrounding stovetop.\n",
       "\n",
       "**3. Convenience:**\n",
       "\n",
       "*   **Electric Kettle:** Very convenient; often with automatic shut-off, cordless pouring, and easy filling.\n",
       "*   **Microwave:** Convenient for small amounts, especially if you only need to heat a single cup.\n",
       "*   **Gas Stove:** Convenient if you already have a gas stove.\n",
       "*   **Induction Cooktop:** Convenient if you have one; easy to clean and precise temperature control.\n",
       "*   **Electric Coil Stove:** Less convenient; often takes longer, and coil stoves can be harder to clean.\n",
       "\n",
       "**4. Availability/Cost:**\n",
       "\n",
       "*   **Gas Stove/Electric Stove:** Most homes already have a stove.\n",
       "*   **Electric Kettle:** Relatively inexpensive to purchase.\n",
       "*   **Induction Cooktop:** More expensive than a standard stove or kettle.\n",
       "*   **Microwave:** Most homes already have a microwave.\n",
       "\n",
       "**5. Safety:**\n",
       "\n",
       "*   **Electric Kettle:** Generally safer due to automatic shut-off features and cordless design.\n",
       "*   **Gas Stove:** Requires caution when handling open flames.\n",
       "*   **Microwave:** Can create superheated water (especially in smooth-sided cups), which can suddenly erupt when disturbed.\n",
       "*   **Electric Stove:** Potential for burns from touching hot surfaces.\n",
       "*   **Induction Stove:** Heating is only when a compatible pan is present. No flame or hot surface on stove top, which reduces risk of burns.\n",
       "\n",
       "**Summary Table:**\n",
       "\n",
       "| Method            | Speed      | Efficiency | Convenience | Availability | Safety   |\n",
       "| ------------------ | ----------- | ---------- | ----------- | ------------- | -------- |\n",
       "| Electric Kettle   | Fastest     | Highest    | Highest     | High          | High     |\n",
       "| Induction Cooktop | Very Fast   | Very High  | High        | Medium        | High     |\n",
       "| Gas Stove         | Medium      | Medium     | Medium      | High          | Medium   |\n",
       "| Electric Coil     | Slowest     | Lowest     | Low         | High          | Medium   |\n",
       "| Microwave         | Fast (small) | Low        | High (small) | High          | Low/Med  |\n",
       "\n",
       "**In Conclusion:**\n",
       "\n",
       "*   **For most people, an electric kettle is the best general-purpose method.** It's fast, energy-efficient, convenient, and relatively safe.\n",
       "*   **If you have an induction cooktop, that's also an excellent option** offering speed and high efficiency.\n",
       "*   **If you only need to heat a very small amount of water occasionally, a microwave might be acceptable (but be cautious of superheating).**\n",
       "*   **Stoves are a viable option if you don't have the other appliances**, but they are less efficient.\n",
       "\n",
       "No matter which method you choose, always use a clean container and fresh water for the best results.\n"
      ],
      "text/plain": [
       "<IPython.core.display.Markdown object>"
      ]
     },
     "metadata": {},
     "output_type": "display_data"
    }
   ],
   "source": [
    "prompt = \"What's the best method of boiling water?\"\n",
    "\n",
    "response = client.models.generate_content(model=MODEL_ID, contents=prompt)\n",
    "display(Markdown(response.text))"
   ]
  },
  {
   "cell_type": "code",
   "execution_count": 12,
   "metadata": {
    "id": "KwUzhud4aA89",
    "tags": []
   },
   "outputs": [
    {
     "data": {
      "text/markdown": [
       "The sky appears blue due to a phenomenon called **Rayleigh scattering**. Here's a breakdown:\n",
       "\n",
       "*   **Sunlight and the Atmosphere:** Sunlight is made up of all the colors of the rainbow. When it enters the Earth's atmosphere, it collides with tiny air molecules (mostly nitrogen and oxygen).\n",
       "\n",
       "*   **Scattering:** This collision causes the sunlight to scatter in different directions.\n",
       "\n",
       "*   **Rayleigh Scattering:** Rayleigh scattering is the type of scattering that is most effective when the particles are much smaller than the wavelength of the light. Because blue and violet light have shorter wavelengths than other colors (like red and orange), they are scattered more strongly by these small air molecules.\n",
       "\n",
       "*   **Why Blue and Not Violet?** Violet light is actually scattered even more than blue light. However, there are a couple of reasons why we see a blue sky:\n",
       "    *   **Sunlight Emission:** The sun emits slightly less violet light than blue light.\n",
       "    *   **Human Eyes:** Our eyes are more sensitive to blue light than violet light.\n",
       "\n",
       "*   **The Result:** The blue light is scattered in all directions throughout the atmosphere. When we look up at the sky, we see this scattered blue light, which is why the sky appears blue.\n",
       "\n",
       "**In simpler terms:** Imagine throwing a bunch of small balls (air molecules) at a wall. If you throw a mix of large and small bouncy balls (sunlight), the smaller balls (blue light) will bounce around more and in more directions than the larger balls (red light). That's why we see blue light coming from everywhere when we look at the sky.\n",
       "\n",
       "**Why Sunsets are Red:** At sunrise and sunset, the sunlight has to travel through a much greater distance of atmosphere to reach our eyes. This means that most of the blue light has already been scattered away by the time the sunlight reaches us. The longer wavelengths of light, like red and orange, are scattered less effectively and are able to pass through the atmosphere and reach our eyes, giving us those beautiful red and orange sunsets."
      ],
      "text/plain": [
       "<IPython.core.display.Markdown object>"
      ]
     },
     "metadata": {},
     "output_type": "display_data"
    }
   ],
   "source": [
    "prompt = \"Why is the sky blue?\"\n",
    "\n",
    "response = client.models.generate_content(model=MODEL_ID, contents=prompt)\n",
    "display(Markdown(response.text))"
   ]
  },
  {
   "cell_type": "markdown",
   "metadata": {
    "id": "PJIL2RTQaGcT"
   },
   "source": [
    "### Watch out for hallucinations"
   ]
  },
  {
   "cell_type": "markdown",
   "metadata": {
    "id": "8Y8kYxrSaHE9"
   },
   "source": [
    "Although LLMs have been trained on a large amount of data, they can generate text containing statements not grounded in truth or reality; these responses from the LLM are often referred to as \"hallucinations\" due to their limited memorization capabilities. Note that simply prompting the LLM to provide a citation isn't a fix to this problem, as there are instances of LLMs providing false or inaccurate citations. Dealing with hallucinations is a fundamental challenge of LLMs and an ongoing research area, so it is important to be cognizant that LLMs may seem to give you confident, correct-sounding statements that are in fact incorrect.\n",
    "\n",
    "Note that if you intend to use LLMs for the creative use cases, hallucinating could actually be quite useful."
   ]
  },
  {
   "cell_type": "markdown",
   "metadata": {
    "id": "8NY5nAGeaJYS"
   },
   "source": [
    "Try the prompt like the one below repeatedly. We set the temperature to `1.0` so that it takes more risks in its choices. It's possible that it may provide an inaccurate, but confident answer."
   ]
  },
  {
   "cell_type": "code",
   "execution_count": 13,
   "metadata": {
    "id": "QALPjEILaM62",
    "tags": []
   },
   "outputs": [
    {
     "data": {
      "text/markdown": [
       "Today is Wednesday, May 15, 2024.\n"
      ],
      "text/plain": [
       "<IPython.core.display.Markdown object>"
      ]
     },
     "metadata": {},
     "output_type": "display_data"
    }
   ],
   "source": [
    "generation_config = GenerateContentConfig(temperature=1.0)\n",
    "\n",
    "prompt = \"What day is it today?\"\n",
    "\n",
    "response = client.models.generate_content(model=MODEL_ID, contents=prompt)\n",
    "display(Markdown(response.text))"
   ]
  },
  {
   "cell_type": "markdown",
   "metadata": {
    "id": "BRkwzbgRbhKt"
   },
   "source": [
    "Since LLMs do not have access to real-time information without further integrations, you may have noticed it hallucinates what day it is today in some of the outputs."
   ]
  },
  {
   "cell_type": "markdown",
   "metadata": {},
   "source": [
    "## Reduce Output Variability"
   ]
  },
  {
   "cell_type": "markdown",
   "metadata": {
    "id": "3c811e310d02"
   },
   "source": [
    "### Using system instructions to guardrail the model from irrelevant responses\n",
    "\n",
    "How can we attempt to reduce the chances of irrelevant responses and hallucinations?\n",
    "\n",
    "One way is to provide the LLM with [system instructions](https://cloud.google.com/vertex-ai/generative-ai/docs/multimodal/send-chat-prompts-gemini#system-instructions).\n",
    "\n",
    "Let's see how system instructions works and how you can use them to reduce hallucinations or irrelevant questions for a travel chatbot.\n",
    "\n",
    "Suppose we ask a simple question about one of Italy's most famous tourist spots."
   ]
  },
  {
   "cell_type": "code",
   "execution_count": 14,
   "metadata": {
    "id": "rB6zJU76biFK",
    "tags": []
   },
   "outputs": [
    {
     "data": {
      "text/markdown": [
       "The best place for sightseeing in Milan, Italy is the Duomo di Milano. It is the city's most iconic landmark, a magnificent cathedral that took nearly six centuries to complete. Visitors can explore the interior, ascend to the rooftop for panoramic views, and marvel at the intricate facade adorned with thousands of statues and spires.\n"
      ],
      "text/plain": [
       "<IPython.core.display.Markdown object>"
      ]
     },
     "metadata": {},
     "output_type": "display_data"
    }
   ],
   "source": [
    "generation_config = GenerateContentConfig(temperature=1.0)\n",
    "\n",
    "chat = client.chats.create(\n",
    "    model=MODEL_ID,\n",
    "    config=GenerateContentConfig(\n",
    "        system_instruction=[\n",
    "            \"Hello! You are an AI chatbot for a travel web site.\",\n",
    "            \"Your mission is to provide helpful queries for travelers.\",\n",
    "            \"Remember that before you answer a question, you must check to see if it complies with your mission.\",\n",
    "            \"If not, you can say, Sorry I can't answer that question.\",\n",
    "        ]\n",
    "    ),\n",
    ")\n",
    "\n",
    "prompt = \"What is the best place for sightseeing in Milan, Italy?\"\n",
    "\n",
    "response = chat.send_message(prompt)\n",
    "display(Markdown(response.text))"
   ]
  },
  {
   "cell_type": "markdown",
   "metadata": {
    "id": "WZa-Qcf9cF4A"
   },
   "source": [
    "Now let us pretend to be a user asks the chatbot a question that is unrelated to travel."
   ]
  },
  {
   "cell_type": "code",
   "execution_count": null,
   "metadata": {
    "id": "AZKBIDr2cGnu"
   },
   "outputs": [],
   "source": [
    "prompt = \"What is the best place for sightseeing in Milan, Italy?\"\n",
    "\n",
    "response = chat.send_message(prompt)\n",
    "display(Markdown(response.text))"
   ]
  },
  {
   "cell_type": "markdown",
   "metadata": {
    "id": "JiUYIhwpctCy"
   },
   "source": [
    "You can see that this way, a guardrail in the prompt prevented the chatbot from veering off course."
   ]
  },
  {
   "cell_type": "markdown",
   "metadata": {
    "id": "ZuuDhA37cvmP"
   },
   "source": [
    "### Turn generative tasks into classification tasks to reduce output variability"
   ]
  },
  {
   "cell_type": "markdown",
   "metadata": {
    "id": "kUCUrsUzczmb"
   },
   "source": [
    "#### Generative tasks lead to higher output variability"
   ]
  },
  {
   "cell_type": "markdown",
   "metadata": {
    "id": "a1xASHAkc46n"
   },
   "source": [
    "The prompt below results in an open-ended response, useful for brainstorming, but response is highly variable."
   ]
  },
  {
   "cell_type": "code",
   "execution_count": null,
   "metadata": {
    "id": "nPfXQWIacwRf"
   },
   "outputs": [],
   "source": [
    "prompt = \"I'm a high school student. Recommend me a programming activity to improve my skills.\"\n",
    "\n",
    "response = client.models.generate_content(model=MODEL_ID, contents=prompt)\n",
    "display(Markdown(response.text))"
   ]
  },
  {
   "cell_type": "markdown",
   "metadata": {
    "id": "iAmm9wPYc_1o"
   },
   "source": [
    "#### Classification tasks reduces output variability"
   ]
  },
  {
   "cell_type": "markdown",
   "metadata": {
    "id": "VvRpK_0GdCpf"
   },
   "source": [
    "The prompt below results in a choice and may be useful if you want the output to be easier to control."
   ]
  },
  {
   "cell_type": "code",
   "execution_count": null,
   "metadata": {
    "id": "kYDKh0r2dAqo"
   },
   "outputs": [],
   "source": [
    "prompt = \"\"\"I'm a high school student. Which of these activities do you suggest and why:\n",
    "a) learn Python\n",
    "b) learn JavaScript\n",
    "c) learn Fortran\n",
    "\"\"\"\n",
    "\n",
    "response = client.models.generate_content(model=MODEL_ID, contents=prompt)\n",
    "display(Markdown(response.text))"
   ]
  },
  {
   "cell_type": "markdown",
   "metadata": {
    "id": "iTd60b1GdIsx"
   },
   "source": [
    "### Improve response quality by including examples"
   ]
  },
  {
   "cell_type": "markdown",
   "metadata": {
    "id": "yJi44NejdJYE"
   },
   "source": [
    "Another way to improve response quality is to add examples in your prompt. The LLM learns in-context from the examples on how to respond. Typically, one to five examples (shots) are enough to improve the quality of responses. Including too many examples can cause the model to over-fit the data and reduce the quality of responses.\n",
    "\n",
    "Similar to classical model training, the quality and distribution of the examples is very important. Pick examples that are representative of the scenarios that you need the model to learn, and keep the distribution of the examples (e.g. number of examples per class in the case of classification) aligned with your actual distribution."
   ]
  },
  {
   "cell_type": "markdown",
   "metadata": {
    "id": "sMbLginWdOKs"
   },
   "source": [
    "#### Zero-shot prompt"
   ]
  },
  {
   "cell_type": "markdown",
   "metadata": {
    "id": "Crh2Loi2dQ0v"
   },
   "source": [
    "Below is an example of zero-shot prompting, where you don't provide any examples to the LLM within the prompt itself."
   ]
  },
  {
   "cell_type": "code",
   "execution_count": null,
   "metadata": {
    "id": "-7myRc-SdTQ4"
   },
   "outputs": [],
   "source": [
    "prompt = \"\"\"Decide whether a Tweet's sentiment is positive, neutral, or negative.\n",
    "\n",
    "Tweet: I loved the new YouTube video you made!\n",
    "Sentiment:\n",
    "\"\"\"\n",
    "\n",
    "response = client.models.generate_content(model=MODEL_ID, contents=prompt)\n",
    "display(Markdown(response.text))"
   ]
  },
  {
   "cell_type": "markdown",
   "metadata": {
    "id": "ucRtPn9SdL64"
   },
   "source": [
    "#### One-shot prompt"
   ]
  },
  {
   "cell_type": "markdown",
   "metadata": {
    "id": "rs0gQH2vdYBi"
   },
   "source": [
    "Below is an example of one-shot prompting, where you provide one example to the LLM within the prompt to give some guidance on what type of response you want."
   ]
  },
  {
   "cell_type": "code",
   "execution_count": null,
   "metadata": {
    "id": "iEq-KxGYdaT5"
   },
   "outputs": [],
   "source": [
    "prompt = \"\"\"Decide whether a Tweet's sentiment is positive, neutral, or negative.\n",
    "\n",
    "Tweet: I loved the new YouTube video you made!\n",
    "Sentiment: positive\n",
    "\n",
    "Tweet: That was awful. Super boring 😠\n",
    "Sentiment:\n",
    "\"\"\"\n",
    "\n",
    "response = client.models.generate_content(model=MODEL_ID, contents=prompt)\n",
    "display(Markdown(response.text))"
   ]
  },
  {
   "cell_type": "markdown",
   "metadata": {
    "id": "JnKLjJzmdfL_"
   },
   "source": [
    "#### Few-shot prompt"
   ]
  },
  {
   "cell_type": "markdown",
   "metadata": {
    "id": "6Zv-9F5OdgI_"
   },
   "source": [
    "Below is an example of few-shot prompting, where you provide a few examples to the LLM within the prompt to give some guidance on what type of response you want."
   ]
  },
  {
   "cell_type": "code",
   "execution_count": null,
   "metadata": {
    "id": "u37P9tG4dk9S"
   },
   "outputs": [],
   "source": [
    "prompt = \"\"\"Decide whether a Tweet's sentiment is positive, neutral, or negative.\n",
    "\n",
    "Tweet: I loved the new YouTube video you made!\n",
    "Sentiment: positive\n",
    "\n",
    "Tweet: That was awful. Super boring 😠\n",
    "Sentiment: negative\n",
    "\n",
    "Tweet: Something surprised me about this video - it was actually original. It was not the same old recycled stuff that I always see. Watch it - you will not regret it.\n",
    "Sentiment:\n",
    "\"\"\"\n",
    "\n",
    "response = client.models.generate_content(model=MODEL_ID, contents=prompt)\n",
    "display(Markdown(response.text))"
   ]
  },
  {
   "cell_type": "markdown",
   "metadata": {
    "id": "wDMD3xb2dvX6"
   },
   "source": [
    "#### Choosing between zero-shot, one-shot, few-shot prompting methods"
   ]
  },
  {
   "cell_type": "markdown",
   "metadata": {
    "id": "s92W0YpNdxJp"
   },
   "source": [
    "Which prompt technique to use will solely depends on your goal. The zero-shot prompts are more open-ended and can give you creative answers, while one-shot and few-shot prompts teach the model how to behave so you can get more predictable answers that are consistent with the examples provided."
   ]
  }
 ],
 "metadata": {
  "colab": {
   "name": "intro_prompt_design.ipynb",
   "toc_visible": true
  },
  "environment": {
   "kernel": "conda-base-py",
   "name": "workbench-notebooks.m128",
   "type": "gcloud",
   "uri": "us-docker.pkg.dev/deeplearning-platform-release/gcr.io/workbench-notebooks:m128"
  },
  "kernelspec": {
   "display_name": "Python 3 (ipykernel) (Local)",
   "language": "python",
   "name": "conda-base-py"
  },
  "language_info": {
   "codemirror_mode": {
    "name": "ipython",
    "version": 3
   },
   "file_extension": ".py",
   "mimetype": "text/x-python",
   "name": "python",
   "nbconvert_exporter": "python",
   "pygments_lexer": "ipython3",
   "version": "3.10.16"
  }
 },
 "nbformat": 4,
 "nbformat_minor": 4
}
